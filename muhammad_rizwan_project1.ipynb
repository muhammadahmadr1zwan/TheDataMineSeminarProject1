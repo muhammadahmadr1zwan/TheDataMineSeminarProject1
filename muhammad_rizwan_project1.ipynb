{
 "cells": [
  {
   "cell_type": "markdown",
   "id": "be02a957-7133-4d02-818e-fedeb3cecb05",
   "metadata": {},
   "source": [
    "# Project 1 -- Muhammad Rizwan"
   ]
  },
  {
   "cell_type": "markdown",
   "id": "a1228853-dd19-4ab2-89e0-0394d7d72de3",
   "metadata": {},
   "source": [
    "**TA Help:** John Smith, Alice Jones\n",
    "\n",
    "- Help with figuring out how to write a function.\n",
    "    \n",
    "**Collaboration:** Friend1, Friend2\n",
    "    \n",
    "- Helped figuring out how to load the dataset.\n",
    "- Helped debug error with my plot."
   ]
  },
  {
   "cell_type": "markdown",
   "id": "6180e742-8e39-4698-98ff-5b00c8cf8ea0",
   "metadata": {},
   "source": [
    "## Question 1"
   ]
  },
  {
   "cell_type": "code",
   "execution_count": null,
   "id": "af3b69a0-1001-4400-9375-c6e357d24f76",
   "metadata": {},
   "outputs": [],
   "source": [
    "# We use the Pandas library to import the data into Python"
   ]
  },
  {
   "cell_type": "code",
   "execution_count": 2,
   "id": "49445606-d363-41b4-b479-e319a9a84c01",
   "metadata": {},
   "outputs": [],
   "source": [
    "import pandas as pd"
   ]
  },
  {
   "cell_type": "code",
   "execution_count": null,
   "id": "e236ba6c-e0bb-4b7a-a300-5ad8a91e80c5",
   "metadata": {},
   "outputs": [],
   "source": [
    "# We create a data frame in Pandas using the read_csv function\n",
    "# and the data from the airports data set into this data frame, called myDF "
   ]
  },
  {
   "cell_type": "code",
   "execution_count": 3,
   "id": "25e1e866-6f44-465a-9b5f-2c74057b4841",
   "metadata": {},
   "outputs": [],
   "source": [
    "myDF = pd.read_csv(\"/anvil/projects/tdm/data/flights/subset/airports.csv\")"
   ]
  },
  {
   "cell_type": "code",
   "execution_count": 4,
   "id": "aa49c3b7-9edf-4177-b502-4792d2c99249",
   "metadata": {},
   "outputs": [
    {
     "data": {
      "text/html": [
       "<div>\n",
       "<style scoped>\n",
       "    .dataframe tbody tr th:only-of-type {\n",
       "        vertical-align: middle;\n",
       "    }\n",
       "\n",
       "    .dataframe tbody tr th {\n",
       "        vertical-align: top;\n",
       "    }\n",
       "\n",
       "    .dataframe thead th {\n",
       "        text-align: right;\n",
       "    }\n",
       "</style>\n",
       "<table border=\"1\" class=\"dataframe\">\n",
       "  <thead>\n",
       "    <tr style=\"text-align: right;\">\n",
       "      <th></th>\n",
       "      <th>iata</th>\n",
       "      <th>airport</th>\n",
       "      <th>city</th>\n",
       "      <th>state</th>\n",
       "      <th>country</th>\n",
       "      <th>lat</th>\n",
       "      <th>long</th>\n",
       "    </tr>\n",
       "  </thead>\n",
       "  <tbody>\n",
       "    <tr>\n",
       "      <th>0</th>\n",
       "      <td>00M</td>\n",
       "      <td>Thigpen</td>\n",
       "      <td>Bay Springs</td>\n",
       "      <td>MS</td>\n",
       "      <td>USA</td>\n",
       "      <td>31.953765</td>\n",
       "      <td>-89.234505</td>\n",
       "    </tr>\n",
       "    <tr>\n",
       "      <th>1</th>\n",
       "      <td>00R</td>\n",
       "      <td>Livingston Municipal</td>\n",
       "      <td>Livingston</td>\n",
       "      <td>TX</td>\n",
       "      <td>USA</td>\n",
       "      <td>30.685861</td>\n",
       "      <td>-95.017928</td>\n",
       "    </tr>\n",
       "    <tr>\n",
       "      <th>2</th>\n",
       "      <td>00V</td>\n",
       "      <td>Meadow Lake</td>\n",
       "      <td>Colorado Springs</td>\n",
       "      <td>CO</td>\n",
       "      <td>USA</td>\n",
       "      <td>38.945749</td>\n",
       "      <td>-104.569893</td>\n",
       "    </tr>\n",
       "    <tr>\n",
       "      <th>3</th>\n",
       "      <td>01G</td>\n",
       "      <td>Perry-Warsaw</td>\n",
       "      <td>Perry</td>\n",
       "      <td>NY</td>\n",
       "      <td>USA</td>\n",
       "      <td>42.741347</td>\n",
       "      <td>-78.052081</td>\n",
       "    </tr>\n",
       "    <tr>\n",
       "      <th>4</th>\n",
       "      <td>01J</td>\n",
       "      <td>Hilliard Airpark</td>\n",
       "      <td>Hilliard</td>\n",
       "      <td>FL</td>\n",
       "      <td>USA</td>\n",
       "      <td>30.688012</td>\n",
       "      <td>-81.905944</td>\n",
       "    </tr>\n",
       "  </tbody>\n",
       "</table>\n",
       "</div>"
      ],
      "text/plain": [
       "  iata               airport              city state country        lat  \\\n",
       "0  00M              Thigpen        Bay Springs    MS     USA  31.953765   \n",
       "1  00R  Livingston Municipal        Livingston    TX     USA  30.685861   \n",
       "2  00V           Meadow Lake  Colorado Springs    CO     USA  38.945749   \n",
       "3  01G          Perry-Warsaw             Perry    NY     USA  42.741347   \n",
       "4  01J      Hilliard Airpark          Hilliard    FL     USA  30.688012   \n",
       "\n",
       "         long  \n",
       "0  -89.234505  \n",
       "1  -95.017928  \n",
       "2 -104.569893  \n",
       "3  -78.052081  \n",
       "4  -81.905944  "
      ]
     },
     "execution_count": 4,
     "metadata": {},
     "output_type": "execute_result"
    }
   ],
   "source": [
    "myDF.head() "
   ]
  },
  {
   "cell_type": "markdown",
   "id": "b456e57c-4a12-464b-999a-ef2df5af80c1",
   "metadata": {},
   "source": [
    "We use the Pandas library to import the data into Python"
   ]
  },
  {
   "cell_type": "markdown",
   "id": "fc601975-35ed-4680-a4e1-0273ee3cc047",
   "metadata": {},
   "source": [
    "## Question 2"
   ]
  },
  {
   "cell_type": "code",
   "execution_count": 7,
   "id": "9ad9ac4a-81a6-424a-8380-78d305780099",
   "metadata": {},
   "outputs": [],
   "source": [
    "%%R\n",
    "myDF <- read.csv(\"/anvil/projects/tdm/data/flights/subset/airports.csv\")"
   ]
  },
  {
   "cell_type": "code",
   "execution_count": 8,
   "id": "daf51ade-a2f9-46b7-813a-310f904dfaf5",
   "metadata": {},
   "outputs": [
    {
     "name": "stdout",
     "output_type": "stream",
     "text": [
      "  iata              airport             city state country      lat       long\n",
      "1  00M             Thigpen       Bay Springs    MS     USA 31.95376  -89.23450\n",
      "2  00R Livingston Municipal       Livingston    TX     USA 30.68586  -95.01793\n",
      "3  00V          Meadow Lake Colorado Springs    CO     USA 38.94575 -104.56989\n",
      "4  01G         Perry-Warsaw            Perry    NY     USA 42.74135  -78.05208\n",
      "5  01J     Hilliard Airpark         Hilliard    FL     USA 30.68801  -81.90594\n",
      "6  01M    Tishomingo County          Belmont    MS     USA 34.49167  -88.20111\n"
     ]
    }
   ],
   "source": [
    "%%R\n",
    "head(myDF)"
   ]
  },
  {
   "cell_type": "code",
   "execution_count": null,
   "id": "f0b6e95d-779e-4b3b-8693-40d6ece0b8e4",
   "metadata": {},
   "outputs": [],
   "source": [
    "# Here we used %%R as it is needed in the seminar kernel."
   ]
  },
  {
   "cell_type": "code",
   "execution_count": 1,
   "id": "5546ee37-ac07-434e-bd65-81f7b5b7d707",
   "metadata": {},
   "outputs": [],
   "source": [
    "myDF <- read.csv(\"/anvil/projects/tdm/data/flights/subset/airports.csv\")"
   ]
  },
  {
   "cell_type": "code",
   "execution_count": 2,
   "id": "f032c9c9-b138-484a-b25a-1cd5caca0fc8",
   "metadata": {},
   "outputs": [
    {
     "data": {
      "text/html": [
       "<table class=\"dataframe\">\n",
       "<caption>A data.frame: 6 x 7</caption>\n",
       "<thead>\n",
       "\t<tr><th></th><th scope=col>iata</th><th scope=col>airport</th><th scope=col>city</th><th scope=col>state</th><th scope=col>country</th><th scope=col>lat</th><th scope=col>long</th></tr>\n",
       "\t<tr><th></th><th scope=col>&lt;chr&gt;</th><th scope=col>&lt;chr&gt;</th><th scope=col>&lt;chr&gt;</th><th scope=col>&lt;chr&gt;</th><th scope=col>&lt;chr&gt;</th><th scope=col>&lt;dbl&gt;</th><th scope=col>&lt;dbl&gt;</th></tr>\n",
       "</thead>\n",
       "<tbody>\n",
       "\t<tr><th scope=row>1</th><td>00M</td><td>Thigpen             </td><td>Bay Springs     </td><td>MS</td><td>USA</td><td>31.95376</td><td> -89.23450</td></tr>\n",
       "\t<tr><th scope=row>2</th><td>00R</td><td>Livingston Municipal</td><td>Livingston      </td><td>TX</td><td>USA</td><td>30.68586</td><td> -95.01793</td></tr>\n",
       "\t<tr><th scope=row>3</th><td>00V</td><td>Meadow Lake         </td><td>Colorado Springs</td><td>CO</td><td>USA</td><td>38.94575</td><td>-104.56989</td></tr>\n",
       "\t<tr><th scope=row>4</th><td>01G</td><td>Perry-Warsaw        </td><td>Perry           </td><td>NY</td><td>USA</td><td>42.74135</td><td> -78.05208</td></tr>\n",
       "\t<tr><th scope=row>5</th><td>01J</td><td>Hilliard Airpark    </td><td>Hilliard        </td><td>FL</td><td>USA</td><td>30.68801</td><td> -81.90594</td></tr>\n",
       "\t<tr><th scope=row>6</th><td>01M</td><td>Tishomingo County   </td><td>Belmont         </td><td>MS</td><td>USA</td><td>34.49167</td><td> -88.20111</td></tr>\n",
       "</tbody>\n",
       "</table>\n"
      ],
      "text/latex": [
       "A data.frame: 6 x 7\n",
       "\\begin{tabular}{r|lllllll}\n",
       "  & iata & airport & city & state & country & lat & long\\\\\n",
       "  & <chr> & <chr> & <chr> & <chr> & <chr> & <dbl> & <dbl>\\\\\n",
       "\\hline\n",
       "\t1 & 00M & Thigpen              & Bay Springs      & MS & USA & 31.95376 &  -89.23450\\\\\n",
       "\t2 & 00R & Livingston Municipal & Livingston       & TX & USA & 30.68586 &  -95.01793\\\\\n",
       "\t3 & 00V & Meadow Lake          & Colorado Springs & CO & USA & 38.94575 & -104.56989\\\\\n",
       "\t4 & 01G & Perry-Warsaw         & Perry            & NY & USA & 42.74135 &  -78.05208\\\\\n",
       "\t5 & 01J & Hilliard Airpark     & Hilliard         & FL & USA & 30.68801 &  -81.90594\\\\\n",
       "\t6 & 01M & Tishomingo County    & Belmont          & MS & USA & 34.49167 &  -88.20111\\\\\n",
       "\\end{tabular}\n"
      ],
      "text/markdown": [
       "\n",
       "A data.frame: 6 x 7\n",
       "\n",
       "| <!--/--> | iata &lt;chr&gt; | airport &lt;chr&gt; | city &lt;chr&gt; | state &lt;chr&gt; | country &lt;chr&gt; | lat &lt;dbl&gt; | long &lt;dbl&gt; |\n",
       "|---|---|---|---|---|---|---|---|\n",
       "| 1 | 00M | Thigpen              | Bay Springs      | MS | USA | 31.95376 |  -89.23450 |\n",
       "| 2 | 00R | Livingston Municipal | Livingston       | TX | USA | 30.68586 |  -95.01793 |\n",
       "| 3 | 00V | Meadow Lake          | Colorado Springs | CO | USA | 38.94575 | -104.56989 |\n",
       "| 4 | 01G | Perry-Warsaw         | Perry            | NY | USA | 42.74135 |  -78.05208 |\n",
       "| 5 | 01J | Hilliard Airpark     | Hilliard         | FL | USA | 30.68801 |  -81.90594 |\n",
       "| 6 | 01M | Tishomingo County    | Belmont          | MS | USA | 34.49167 |  -88.20111 |\n",
       "\n"
      ],
      "text/plain": [
       "  iata airport              city             state country lat      long      \n",
       "1 00M  Thigpen              Bay Springs      MS    USA     31.95376  -89.23450\n",
       "2 00R  Livingston Municipal Livingston       TX    USA     30.68586  -95.01793\n",
       "3 00V  Meadow Lake          Colorado Springs CO    USA     38.94575 -104.56989\n",
       "4 01G  Perry-Warsaw         Perry            NY    USA     42.74135  -78.05208\n",
       "5 01J  Hilliard Airpark     Hilliard         FL    USA     30.68801  -81.90594\n",
       "6 01M  Tishomingo County    Belmont          MS    USA     34.49167  -88.20111"
      ]
     },
     "metadata": {},
     "output_type": "display_data"
    }
   ],
   "source": [
    "head(myDF)"
   ]
  },
  {
   "cell_type": "code",
   "execution_count": null,
   "id": "b6c403a1-bc70-45e0-9620-1a86aeb5f944",
   "metadata": {},
   "outputs": [],
   "source": [
    "# Over here we did not, as the seminar-r kernel does not require the \"cell magic\"."
   ]
  },
  {
   "cell_type": "markdown",
   "id": "9471678f-afae-4e05-9693-7c5775f8d652",
   "metadata": {},
   "source": [
    "The first part of the question used R but in the seminar terminal, which requires %%R in the beginning as \"cell magic\". However, when using the seminar-r kernel in Jupyter Notebook, we DO NOT need to use the \"cell magic\" in order to output the data. \n",
    "The data in both codes are flights in airports around the country with their city, state, latitude and longitude given. "
   ]
  },
  {
   "cell_type": "markdown",
   "id": "8e586edd-ff26-4ce2-8f6b-2424b26f2929",
   "metadata": {},
   "source": [
    "## Question 3"
   ]
  },
  {
   "cell_type": "code",
   "execution_count": 2,
   "id": "67310841-12b5-46bb-b072-2d58662cefb3",
   "metadata": {},
   "outputs": [],
   "source": [
    "myDF <- read.csv(\"/anvil/projects/tdm/data/flights/subset/airports.csv\")"
   ]
  },
  {
   "cell_type": "code",
   "execution_count": 8,
   "id": "bbe0f40d-9655-4653-9ca8-886bdb61cb91",
   "metadata": {},
   "outputs": [
    {
     "data": {
      "text/html": [
       "<style>\n",
       ".list-inline {list-style: none; margin:0; padding: 0}\n",
       ".list-inline>li {display: inline-block}\n",
       ".list-inline>li:not(:last-child)::after {content: \"\\00b7\"; padding: 0 .5ex}\n",
       "</style>\n",
       "<ol class=list-inline><li>'MS'</li><li>'TX'</li><li>'CO'</li><li>'NY'</li><li>'FL'</li><li>'MS'</li></ol>\n"
      ],
      "text/latex": [
       "\\begin{enumerate*}\n",
       "\\item 'MS'\n",
       "\\item 'TX'\n",
       "\\item 'CO'\n",
       "\\item 'NY'\n",
       "\\item 'FL'\n",
       "\\item 'MS'\n",
       "\\end{enumerate*}\n"
      ],
      "text/markdown": [
       "1. 'MS'\n",
       "2. 'TX'\n",
       "3. 'CO'\n",
       "4. 'NY'\n",
       "5. 'FL'\n",
       "6. 'MS'\n",
       "\n",
       "\n"
      ],
      "text/plain": [
       "[1] \"MS\" \"TX\" \"CO\" \"NY\" \"FL\" \"MS\""
      ]
     },
     "metadata": {},
     "output_type": "display_data"
    }
   ],
   "source": [
    "head(myDF$state)"
   ]
  },
  {
   "cell_type": "code",
   "execution_count": 5,
   "id": "aed1837f-294c-421d-a961-81b5ee52e163",
   "metadata": {},
   "outputs": [
    {
     "data": {
      "text/plain": [
       "\n",
       "VI VT WA WI WV WY \n",
       " 5 13 65 84 24 32 "
      ]
     },
     "metadata": {},
     "output_type": "display_data"
    }
   ],
   "source": [
    "tail(table(myDF$state))"
   ]
  },
  {
   "cell_type": "code",
   "execution_count": 9,
   "id": "5fc676c9-9c2a-49b7-838b-2b94aece25d2",
   "metadata": {},
   "outputs": [],
   "source": [
    "# We get the alphabetical list of states and how many airports are in each state using the table function."
   ]
  },
  {
   "cell_type": "code",
   "execution_count": 6,
   "id": "705ab248-3a29-4aa1-a4d6-7293c53c6925",
   "metadata": {},
   "outputs": [
    {
     "data": {
      "text/plain": [
       "\n",
       " AK  AL  AR  AS  AZ  CA  CO  CQ  CT  DC  DE  FL  GA  GU  HI  IA  ID  IL  IN  KS \n",
       "263  73  74   3  59 205  49   4  15   1   5 100  97   1  16  78  37  88  65  78 \n",
       " KY  LA  MA  MD  ME  MI  MN  MO  MS  MT  NC  ND  NE  NH  NJ  NM  NV  NY  OH  OK \n",
       " 50  55  30  18  34  94  89  74  72  71  72  52  73  14  35  51  32  97 100 102 \n",
       " OR  PA  PR  RI  SC  SD  TN  TX  UT  VA  VI  VT  WA  WI  WV  WY \n",
       " 57  71  11   6  52  57  70 209  35  47   5  13  65  84  24  32 "
      ]
     },
     "metadata": {},
     "output_type": "display_data"
    }
   ],
   "source": [
    "table(myDF$state)"
   ]
  },
  {
   "cell_type": "code",
   "execution_count": 9,
   "id": "9c8bf755-47ff-47ab-b692-5c64ce2b288f",
   "metadata": {},
   "outputs": [],
   "source": [
    "# We can get all the values in the table using the table function"
   ]
  },
  {
   "cell_type": "code",
   "execution_count": 7,
   "id": "89d2ea75-7e89-4e67-8d41-35c993cff5d2",
   "metadata": {},
   "outputs": [
    {
     "data": {
      "text/plain": [
       "\n",
       " DC  GU  AS  CQ  DE  VI  RI  PR  VT  NH  CT  HI  MD  WV  MA  NV  WY  ME  NJ  UT \n",
       "  1   1   3   4   5   5   6  11  13  14  15  16  18  24  30  32  32  34  35  35 \n",
       " ID  VA  CO  KY  NM  ND  SC  LA  OR  SD  AZ  IN  WA  TN  MT  PA  MS  NC  AL  NE \n",
       " 37  47  49  50  51  52  52  55  57  57  59  65  65  70  71  71  72  72  73  73 \n",
       " AR  MO  IA  KS  WI  IL  MN  MI  GA  NY  FL  OH  OK  CA  TX  AK \n",
       " 74  74  78  78  84  88  89  94  97  97 100 100 102 205 209 263 "
      ]
     },
     "metadata": {},
     "output_type": "display_data"
    }
   ],
   "source": [
    "sort(table(myDF$state))"
   ]
  },
  {
   "cell_type": "code",
   "execution_count": 9,
   "id": "ff0cebde-7278-43d8-9b6d-e29c17251445",
   "metadata": {},
   "outputs": [],
   "source": [
    "# And we can get sort the table and protray the results in a sorted fashion using the sort function"
   ]
  },
  {
   "cell_type": "markdown",
   "id": "da22f29c-d245-4d2b-9fc1-ca14cb6087d9",
   "metadata": {},
   "source": [
    "## Question 4"
   ]
  },
  {
   "cell_type": "code",
   "execution_count": null,
   "id": "8cffc767-d1c8-4d64-b7dc-f0d2ee8a80d1",
   "metadata": {},
   "outputs": [],
   "source": [
    "# The products data set has 1 line of information about each type of ice cream in the list"
   ]
  },
  {
   "cell_type": "code",
   "execution_count": 12,
   "id": "0c0a940a-647f-42cd-b887-c91b4ce65bd1",
   "metadata": {},
   "outputs": [],
   "source": [
    "myDF <- read.csv(\"/anvil/projects/tdm/data/icecream/combined/products.csv\")"
   ]
  },
  {
   "cell_type": "code",
   "execution_count": 13,
   "id": "fc37067f-384c-4444-8531-ca87cca6b86a",
   "metadata": {},
   "outputs": [
    {
     "data": {
      "text/html": [
       "<table class=\"dataframe\">\n",
       "<caption>A data.frame: 6 x 8</caption>\n",
       "<thead>\n",
       "\t<tr><th></th><th scope=col>brand</th><th scope=col>key</th><th scope=col>name</th><th scope=col>subhead</th><th scope=col>description</th><th scope=col>rating</th><th scope=col>rating_count</th><th scope=col>ingredients</th></tr>\n",
       "\t<tr><th></th><th scope=col>&lt;chr&gt;</th><th scope=col>&lt;chr&gt;</th><th scope=col>&lt;chr&gt;</th><th scope=col>&lt;chr&gt;</th><th scope=col>&lt;chr&gt;</th><th scope=col>&lt;dbl&gt;</th><th scope=col>&lt;int&gt;</th><th scope=col>&lt;chr&gt;</th></tr>\n",
       "</thead>\n",
       "<tbody>\n",
       "\t<tr><th scope=row>1</th><td>bj</td><td>0_bj</td><td><span style=white-space:pre-wrap>Salted Caramel Core                 </span></td><td><span style=white-space:pre-wrap>Sweet Cream Ice Cream with Blonde Brownies &amp; a Salted Caramel Core                                 </span></td><td><span style=white-space:pre-wrap>Find your way to the ultimate ice cream experience with our Cores. Whether your primal urges lead you to the center of salted caramel or directly to the blonde brownies, you<e2><80><99>ll be in total control of your own ice cream destiny.                                                                                                      </span></td><td>3.7</td><td>208</td><td><span style=white-space:pre-wrap>CREAM, SKIM MILK, LIQUID SUGAR (SUGAR, WATER), WATER, BROWN SUGAR, SUGAR, MILK, WHEAT FLOUR, EGG YOLKS, CORN SYRUP, EGGS, BUTTER (CREAM, SALT), BUTTEROIL, PECTIN, SEA SALT, SOYBEAN OIL, VANILLA EXTRACT, GUAR GUM, SOY LECITHIN, BAKING POWDER (SODIUM ACID PYROPHOSPHATE, SODIUM BICARBONATE, CORN STARCH, MONOCALCIUM PHOSPHATE), BAKING SODA, SALT, CARRAGEENAN, LACTASE                                                        </span></td></tr>\n",
       "\t<tr><th scope=row>2</th><td>bj</td><td>1_bj</td><td><span style=white-space:pre-wrap>Netflix &amp; Chilll'd<e2><84><a2>      </span></td><td><span style=white-space:pre-wrap>Peanut Butter Ice Cream with Sweet &amp; Salty Pretzel Swirls &amp; Fudge Brownies                         </span></td><td>There<e2><80><99>s something for everyone to watch on Netflix &amp; flavors for everyone to enjoy from Ben &amp; Jerry<e2><80><99>s, so we<e2><80><99>ve teamed up to bring you a chillaxing new creation that<e2><80><99>s certain to satisfy any sweet or salty snack craving. It<e2><80><99>s a flavorful world, and everyone is invited to grab a spoon.</td><td>4.0</td><td>127</td><td><span style=white-space:pre-wrap>CREAM, SKIM MILK, LIQUID SUGAR (SUGAR, WATER), WATER, SUGAR, PEANUTS, WHEAT FLOUR, CANOLA OIL, EGG YOLKS, CORN STARCH, PEANUT OIL, COCOA POWDER, SALT, SOYBEAN OIL, INVERT CANE SUGAR, MILK FAT, EGGS, EGG WHITES, GUAR GUM, SOY LECITHIN, TAPIOCA STARCH, BAKING SODA, CARRAGEENAN, VANILLA EXTRACT, BARLEY MALT, MALTED BARLEY FLOUR                                                                                               </span></td></tr>\n",
       "\t<tr><th scope=row>3</th><td>bj</td><td>2_bj</td><td><span style=white-space:pre-wrap>Chip Happens                        </span></td><td><span style=white-space:pre-wrap>A Cold Mess of Chocolate Ice Cream with Fudge Chips &amp; Crunchy Potato Chip Swirls                   </span></td><td><span style=white-space:pre-wrap>Sometimes <e2><80><9c>chip<e2><80><9d> happens and everything<e2><80><99>s a mess, but we Nailed It! with this chip-filled limited batch. When smooth chocolate ice cream meets fudge chips &amp; salty swirls, they pack a serious one-two crunch. The best part? There won<e2><80><99>t be anything left to clean up.                                 </span></td><td>4.7</td><td>130</td><td><span style=white-space:pre-wrap>CREAM, LIQUID SUGAR (SUGAR, WATER), SKIM MILK, WATER, SUGAR, COCOA (PROCESSED WITH ALKALI), POTATO, COCONUT OIL, CORN SYRUP SOLIDS, SOYBEAN OIL, EGG YOLKS, RICE STARCH, SUNFLOWER OIL, BARLEY MALT, COCOA POWDER, WHEAT FLOUR, MILK, SALT, SOY LECITHIN, YEAST EXTRACT, NATURAL FLAVOR, GUAR GUM, SEA SALT, MILKFAT, VANILLA EXTRACT, ENZYMES, CARRAGEENAN, BAKING SODA. CONTAINS MILK, EGGS, WHEAT AND SOY                         </span></td></tr>\n",
       "\t<tr><th scope=row>4</th><td>bj</td><td>3_bj</td><td><span style=white-space:pre-wrap>Cannoli                             </span></td><td><span style=white-space:pre-wrap>Mascarpone Ice Cream with Fudge-Covered Pastry Shell Pieces &amp; Mascarpone Swirls                    </span></td><td><span style=white-space:pre-wrap>As a Limited Batch that captured the rapture of the classic Sicilian dessert, our Cannoli captivated fans like no other Cannoli could. Now that it<e2><80><99>s a full-time flavor, you and your Cannoli can re-capture the rapture all over again.                                                                                                 </span></td><td>3.6</td><td> 70</td><td><span style=white-space:pre-wrap>CREAM, SKIM MILK, LIQUID SUGAR (SUGAR, WATER),  WATER, CORN SYRUP, COCONUT OIL, SUGAR, DRIED CANE SYRUP, EGG YOLKS, WHEAT FLOUR, MILK, COCOA, NATURAL FLAVOR, GUAR GUM, SOY LECITHIN, BUTTER OIL, NATURAL FLAVORS, LOCUST BEAN GUM, SALT, CITRIC ACID, VANILLA BEAN SEEDS, SOYBEAN OIL, TAPIOCA STARCH, LACTIC ACID, CARRAGEENAN                                                                                                     </span></td></tr>\n",
       "\t<tr><th scope=row>5</th><td>bj</td><td>4_bj</td><td>Gimme S<e2><80><99>more!<e2><84><a2></td><td><span style=white-space:pre-wrap>Toasted Marshmallow Ice Cream with Chocolate Cookie Swirls, Graham Cracker Swirls &amp; Fudge Flakes   </span></td><td><span style=white-space:pre-wrap>It<e2><80><99>s a gimme: there<e2><80><99>s always room for s<e2><80><99>more. And we<e2><80><99>re pretty sure you<e2><80><99>ll want to make s<e2><80><99>more room in your freezer for this <e2><80><98>shmallowy-rich, graham-good-<e2><80><98>n-chocolatey concoction now that it's full time flavor!.                                         </span></td><td>4.5</td><td>281</td><td><span style=white-space:pre-wrap>CREAM, SKIM MILK, WATER, LIQUID SUGAR (SUGAR, WATER), SUGAR, CANOLA OIL, SOYBEAN OIL, EGG YOLKS, CORN SYRUP, WHEAT FLOUR, COCONUT OIL, CORN STARCH, COCOA (PROCESSED WITH ALKALI), CORN SYRUP SOLIDS, COCOA, GRAHAM FLOUR, SALT, EGG WHITES, BUTTEROIL, TAPIOCA STARCH, GUAR GUM, SOY LECITHIN, BAKING SODA, NATURAL FLAVOR, MOLASSES, HONEY, VANILLA EXTRACT, PECTIN, CARAMELIZED SUGAR SYRUP, CARRAGEENAN                          </span></td></tr>\n",
       "\t<tr><th scope=row>6</th><td>bj</td><td>5_bj</td><td><span style=white-space:pre-wrap>Peanut Butter Half Baked<c2><ae>    </span></td><td>Chocolate &amp; Peanut Butter Ice Creams Mixed with Gobs of Peanut Butter Cookie Dough &amp; Fudge Brownies</td><td><span style=white-space:pre-wrap>If you were more than a little bit smitten with half baked<c2><ae><e2><80><99>s peanut buttery cousin when it was a Limited Batch, we expect you could be a whole lot smittener now that it<e2><80><99>s a full-time flavor. Enjoy!                                                                                                                 </span></td><td>4.9</td><td> 14</td><td>CREAM, LIQUID SUGAR (SUGAR, WATER), SKIM MILK, WATER, SUGAR, WHEAT FLOUR, PEANUTS, COCOA (PROCESSED WITH ALKALI), BROWN SUGAR, EGG YOLKS, COCOA POWDER, PEANUT OIL, SOYBEAN OIL, BUTTER (CREAM, SALT), INVERT CANE SUGAR, SALT, CHOCOLATE LIQUOR, EGGS, TAPIOCA FLOUR, PEANUT FLOUR, PEANUT EXTRACT, VANILLA EXTRACT, EGG WHITES, GUAR GUM, COCOA BUTTER, NATURAL FLAVOR, CARRAGEENAN, SOY LECITHIN, BAKING SODA, MALTED BARLEY FLOUR</td></tr>\n",
       "</tbody>\n",
       "</table>\n"
      ],
      "text/latex": [
       "A data.frame: 6 x 8\n",
       "\\begin{tabular}{r|llllllll}\n",
       "  & brand & key & name & subhead & description & rating & rating\\_count & ingredients\\\\\n",
       "  & <chr> & <chr> & <chr> & <chr> & <chr> & <dbl> & <int> & <chr>\\\\\n",
       "\\hline\n",
       "\t1 & bj & 0\\_bj & Salted Caramel Core                  & Sweet Cream Ice Cream with Blonde Brownies \\& a Salted Caramel Core                                  & Find your way to the ultimate ice cream experience with our Cores. Whether your primal urges lead you to the center of salted caramel or directly to the blonde brownies, you<e2><80><99>ll be in total control of your own ice cream destiny.                                                                                                       & 3.7 & 208 & CREAM, SKIM MILK, LIQUID SUGAR (SUGAR, WATER), WATER, BROWN SUGAR, SUGAR, MILK, WHEAT FLOUR, EGG YOLKS, CORN SYRUP, EGGS, BUTTER (CREAM, SALT), BUTTEROIL, PECTIN, SEA SALT, SOYBEAN OIL, VANILLA EXTRACT, GUAR GUM, SOY LECITHIN, BAKING POWDER (SODIUM ACID PYROPHOSPHATE, SODIUM BICARBONATE, CORN STARCH, MONOCALCIUM PHOSPHATE), BAKING SODA, SALT, CARRAGEENAN, LACTASE                                                        \\\\\n",
       "\t2 & bj & 1\\_bj & Netflix \\& Chilll'd<e2><84><a2>       & Peanut Butter Ice Cream with Sweet \\& Salty Pretzel Swirls \\& Fudge Brownies                          & There<e2><80><99>s something for everyone to watch on Netflix \\& flavors for everyone to enjoy from Ben \\& Jerry<e2><80><99>s, so we<e2><80><99>ve teamed up to bring you a chillaxing new creation that<e2><80><99>s certain to satisfy any sweet or salty snack craving. It<e2><80><99>s a flavorful world, and everyone is invited to grab a spoon. & 4.0 & 127 & CREAM, SKIM MILK, LIQUID SUGAR (SUGAR, WATER), WATER, SUGAR, PEANUTS, WHEAT FLOUR, CANOLA OIL, EGG YOLKS, CORN STARCH, PEANUT OIL, COCOA POWDER, SALT, SOYBEAN OIL, INVERT CANE SUGAR, MILK FAT, EGGS, EGG WHITES, GUAR GUM, SOY LECITHIN, TAPIOCA STARCH, BAKING SODA, CARRAGEENAN, VANILLA EXTRACT, BARLEY MALT, MALTED BARLEY FLOUR                                                                                               \\\\\n",
       "\t3 & bj & 2\\_bj & Chip Happens                         & A Cold Mess of Chocolate Ice Cream with Fudge Chips \\& Crunchy Potato Chip Swirls                    & Sometimes <e2><80><9c>chip<e2><80><9d> happens and everything<e2><80><99>s a mess, but we Nailed It! with this chip-filled limited batch. When smooth chocolate ice cream meets fudge chips \\& salty swirls, they pack a serious one-two crunch. The best part? There won<e2><80><99>t be anything left to clean up.                                  & 4.7 & 130 & CREAM, LIQUID SUGAR (SUGAR, WATER), SKIM MILK, WATER, SUGAR, COCOA (PROCESSED WITH ALKALI), POTATO, COCONUT OIL, CORN SYRUP SOLIDS, SOYBEAN OIL, EGG YOLKS, RICE STARCH, SUNFLOWER OIL, BARLEY MALT, COCOA POWDER, WHEAT FLOUR, MILK, SALT, SOY LECITHIN, YEAST EXTRACT, NATURAL FLAVOR, GUAR GUM, SEA SALT, MILKFAT, VANILLA EXTRACT, ENZYMES, CARRAGEENAN, BAKING SODA. CONTAINS MILK, EGGS, WHEAT AND SOY                         \\\\\n",
       "\t4 & bj & 3\\_bj & Cannoli                              & Mascarpone Ice Cream with Fudge-Covered Pastry Shell Pieces \\& Mascarpone Swirls                     & As a Limited Batch that captured the rapture of the classic Sicilian dessert, our Cannoli captivated fans like no other Cannoli could. Now that it<e2><80><99>s a full-time flavor, you and your Cannoli can re-capture the rapture all over again.                                                                                                  & 3.6 &  70 & CREAM, SKIM MILK, LIQUID SUGAR (SUGAR, WATER),  WATER, CORN SYRUP, COCONUT OIL, SUGAR, DRIED CANE SYRUP, EGG YOLKS, WHEAT FLOUR, MILK, COCOA, NATURAL FLAVOR, GUAR GUM, SOY LECITHIN, BUTTER OIL, NATURAL FLAVORS, LOCUST BEAN GUM, SALT, CITRIC ACID, VANILLA BEAN SEEDS, SOYBEAN OIL, TAPIOCA STARCH, LACTIC ACID, CARRAGEENAN                                                                                                     \\\\\n",
       "\t5 & bj & 4\\_bj & Gimme S<e2><80><99>more!<e2><84><a2> & Toasted Marshmallow Ice Cream with Chocolate Cookie Swirls, Graham Cracker Swirls \\& Fudge Flakes    & It<e2><80><99>s a gimme: there<e2><80><99>s always room for s<e2><80><99>more. And we<e2><80><99>re pretty sure you<e2><80><99>ll want to make s<e2><80><99>more room in your freezer for this <e2><80><98>shmallowy-rich, graham-good-<e2><80><98>n-chocolatey concoction now that it's full time flavor!.                                          & 4.5 & 281 & CREAM, SKIM MILK, WATER, LIQUID SUGAR (SUGAR, WATER), SUGAR, CANOLA OIL, SOYBEAN OIL, EGG YOLKS, CORN SYRUP, WHEAT FLOUR, COCONUT OIL, CORN STARCH, COCOA (PROCESSED WITH ALKALI), CORN SYRUP SOLIDS, COCOA, GRAHAM FLOUR, SALT, EGG WHITES, BUTTEROIL, TAPIOCA STARCH, GUAR GUM, SOY LECITHIN, BAKING SODA, NATURAL FLAVOR, MOLASSES, HONEY, VANILLA EXTRACT, PECTIN, CARAMELIZED SUGAR SYRUP, CARRAGEENAN                          \\\\\n",
       "\t6 & bj & 5\\_bj & Peanut Butter Half Baked<c2><ae>     & Chocolate \\& Peanut Butter Ice Creams Mixed with Gobs of Peanut Butter Cookie Dough \\& Fudge Brownies & If you were more than a little bit smitten with half baked<c2><ae><e2><80><99>s peanut buttery cousin when it was a Limited Batch, we expect you could be a whole lot smittener now that it<e2><80><99>s a full-time flavor. Enjoy!                                                                                                                  & 4.9 &  14 & CREAM, LIQUID SUGAR (SUGAR, WATER), SKIM MILK, WATER, SUGAR, WHEAT FLOUR, PEANUTS, COCOA (PROCESSED WITH ALKALI), BROWN SUGAR, EGG YOLKS, COCOA POWDER, PEANUT OIL, SOYBEAN OIL, BUTTER (CREAM, SALT), INVERT CANE SUGAR, SALT, CHOCOLATE LIQUOR, EGGS, TAPIOCA FLOUR, PEANUT FLOUR, PEANUT EXTRACT, VANILLA EXTRACT, EGG WHITES, GUAR GUM, COCOA BUTTER, NATURAL FLAVOR, CARRAGEENAN, SOY LECITHIN, BAKING SODA, MALTED BARLEY FLOUR\\\\\n",
       "\\end{tabular}\n"
      ],
      "text/markdown": [
       "\n",
       "A data.frame: 6 x 8\n",
       "\n",
       "| <!--/--> | brand &lt;chr&gt; | key &lt;chr&gt; | name &lt;chr&gt; | subhead &lt;chr&gt; | description &lt;chr&gt; | rating &lt;dbl&gt; | rating_count &lt;int&gt; | ingredients &lt;chr&gt; |\n",
       "|---|---|---|---|---|---|---|---|---|\n",
       "| 1 | bj | 0_bj | Salted Caramel Core                  | Sweet Cream Ice Cream with Blonde Brownies &amp; a Salted Caramel Core                                  | Find your way to the ultimate ice cream experience with our Cores. Whether your primal urges lead you to the center of salted caramel or directly to the blonde brownies, you<e2><80><99>ll be in total control of your own ice cream destiny.                                                                                                       | 3.7 | 208 | CREAM, SKIM MILK, LIQUID SUGAR (SUGAR, WATER), WATER, BROWN SUGAR, SUGAR, MILK, WHEAT FLOUR, EGG YOLKS, CORN SYRUP, EGGS, BUTTER (CREAM, SALT), BUTTEROIL, PECTIN, SEA SALT, SOYBEAN OIL, VANILLA EXTRACT, GUAR GUM, SOY LECITHIN, BAKING POWDER (SODIUM ACID PYROPHOSPHATE, SODIUM BICARBONATE, CORN STARCH, MONOCALCIUM PHOSPHATE), BAKING SODA, SALT, CARRAGEENAN, LACTASE                                                         |\n",
       "| 2 | bj | 1_bj | Netflix &amp; Chilll'd<e2><84><a2>       | Peanut Butter Ice Cream with Sweet &amp; Salty Pretzel Swirls &amp; Fudge Brownies                          | There<e2><80><99>s something for everyone to watch on Netflix &amp; flavors for everyone to enjoy from Ben &amp; Jerry<e2><80><99>s, so we<e2><80><99>ve teamed up to bring you a chillaxing new creation that<e2><80><99>s certain to satisfy any sweet or salty snack craving. It<e2><80><99>s a flavorful world, and everyone is invited to grab a spoon. | 4.0 | 127 | CREAM, SKIM MILK, LIQUID SUGAR (SUGAR, WATER), WATER, SUGAR, PEANUTS, WHEAT FLOUR, CANOLA OIL, EGG YOLKS, CORN STARCH, PEANUT OIL, COCOA POWDER, SALT, SOYBEAN OIL, INVERT CANE SUGAR, MILK FAT, EGGS, EGG WHITES, GUAR GUM, SOY LECITHIN, TAPIOCA STARCH, BAKING SODA, CARRAGEENAN, VANILLA EXTRACT, BARLEY MALT, MALTED BARLEY FLOUR                                                                                                |\n",
       "| 3 | bj | 2_bj | Chip Happens                         | A Cold Mess of Chocolate Ice Cream with Fudge Chips &amp; Crunchy Potato Chip Swirls                    | Sometimes <e2><80><9c>chip<e2><80><9d> happens and everything<e2><80><99>s a mess, but we Nailed It! with this chip-filled limited batch. When smooth chocolate ice cream meets fudge chips &amp; salty swirls, they pack a serious one-two crunch. The best part? There won<e2><80><99>t be anything left to clean up.                                  | 4.7 | 130 | CREAM, LIQUID SUGAR (SUGAR, WATER), SKIM MILK, WATER, SUGAR, COCOA (PROCESSED WITH ALKALI), POTATO, COCONUT OIL, CORN SYRUP SOLIDS, SOYBEAN OIL, EGG YOLKS, RICE STARCH, SUNFLOWER OIL, BARLEY MALT, COCOA POWDER, WHEAT FLOUR, MILK, SALT, SOY LECITHIN, YEAST EXTRACT, NATURAL FLAVOR, GUAR GUM, SEA SALT, MILKFAT, VANILLA EXTRACT, ENZYMES, CARRAGEENAN, BAKING SODA. CONTAINS MILK, EGGS, WHEAT AND SOY                          |\n",
       "| 4 | bj | 3_bj | Cannoli                              | Mascarpone Ice Cream with Fudge-Covered Pastry Shell Pieces &amp; Mascarpone Swirls                     | As a Limited Batch that captured the rapture of the classic Sicilian dessert, our Cannoli captivated fans like no other Cannoli could. Now that it<e2><80><99>s a full-time flavor, you and your Cannoli can re-capture the rapture all over again.                                                                                                  | 3.6 |  70 | CREAM, SKIM MILK, LIQUID SUGAR (SUGAR, WATER),  WATER, CORN SYRUP, COCONUT OIL, SUGAR, DRIED CANE SYRUP, EGG YOLKS, WHEAT FLOUR, MILK, COCOA, NATURAL FLAVOR, GUAR GUM, SOY LECITHIN, BUTTER OIL, NATURAL FLAVORS, LOCUST BEAN GUM, SALT, CITRIC ACID, VANILLA BEAN SEEDS, SOYBEAN OIL, TAPIOCA STARCH, LACTIC ACID, CARRAGEENAN                                                                                                      |\n",
       "| 5 | bj | 4_bj | Gimme S<e2><80><99>more!<e2><84><a2> | Toasted Marshmallow Ice Cream with Chocolate Cookie Swirls, Graham Cracker Swirls &amp; Fudge Flakes    | It<e2><80><99>s a gimme: there<e2><80><99>s always room for s<e2><80><99>more. And we<e2><80><99>re pretty sure you<e2><80><99>ll want to make s<e2><80><99>more room in your freezer for this <e2><80><98>shmallowy-rich, graham-good-<e2><80><98>n-chocolatey concoction now that it's full time flavor!.                                          | 4.5 | 281 | CREAM, SKIM MILK, WATER, LIQUID SUGAR (SUGAR, WATER), SUGAR, CANOLA OIL, SOYBEAN OIL, EGG YOLKS, CORN SYRUP, WHEAT FLOUR, COCONUT OIL, CORN STARCH, COCOA (PROCESSED WITH ALKALI), CORN SYRUP SOLIDS, COCOA, GRAHAM FLOUR, SALT, EGG WHITES, BUTTEROIL, TAPIOCA STARCH, GUAR GUM, SOY LECITHIN, BAKING SODA, NATURAL FLAVOR, MOLASSES, HONEY, VANILLA EXTRACT, PECTIN, CARAMELIZED SUGAR SYRUP, CARRAGEENAN                           |\n",
       "| 6 | bj | 5_bj | Peanut Butter Half Baked<c2><ae>     | Chocolate &amp; Peanut Butter Ice Creams Mixed with Gobs of Peanut Butter Cookie Dough &amp; Fudge Brownies | If you were more than a little bit smitten with half baked<c2><ae><e2><80><99>s peanut buttery cousin when it was a Limited Batch, we expect you could be a whole lot smittener now that it<e2><80><99>s a full-time flavor. Enjoy!                                                                                                                  | 4.9 |  14 | CREAM, LIQUID SUGAR (SUGAR, WATER), SKIM MILK, WATER, SUGAR, WHEAT FLOUR, PEANUTS, COCOA (PROCESSED WITH ALKALI), BROWN SUGAR, EGG YOLKS, COCOA POWDER, PEANUT OIL, SOYBEAN OIL, BUTTER (CREAM, SALT), INVERT CANE SUGAR, SALT, CHOCOLATE LIQUOR, EGGS, TAPIOCA FLOUR, PEANUT FLOUR, PEANUT EXTRACT, VANILLA EXTRACT, EGG WHITES, GUAR GUM, COCOA BUTTER, NATURAL FLAVOR, CARRAGEENAN, SOY LECITHIN, BAKING SODA, MALTED BARLEY FLOUR |\n",
       "\n"
      ],
      "text/plain": [
       "  brand key  name                                \n",
       "1 bj    0_bj Salted Caramel Core                 \n",
       "2 bj    1_bj Netflix & Chilll'd\\342\\204\\242      \n",
       "3 bj    2_bj Chip Happens                        \n",
       "4 bj    3_bj Cannoli                             \n",
       "5 bj    4_bj Gimme S\\342\\200\\231more!\\342\\204\\242\n",
       "6 bj    5_bj Peanut Butter Half Baked\\302\\256    \n",
       "  subhead                                                                                            \n",
       "1 Sweet Cream Ice Cream with Blonde Brownies & a Salted Caramel Core                                 \n",
       "2 Peanut Butter Ice Cream with Sweet & Salty Pretzel Swirls & Fudge Brownies                         \n",
       "3 A Cold Mess of Chocolate Ice Cream with Fudge Chips & Crunchy Potato Chip Swirls                   \n",
       "4 Mascarpone Ice Cream with Fudge-Covered Pastry Shell Pieces & Mascarpone Swirls                    \n",
       "5 Toasted Marshmallow Ice Cream with Chocolate Cookie Swirls, Graham Cracker Swirls & Fudge Flakes   \n",
       "6 Chocolate & Peanut Butter Ice Creams Mixed with Gobs of Peanut Butter Cookie Dough & Fudge Brownies\n",
       "  description                                                                                                                                                                                                                                                                                                                                         \n",
       "1 Find your way to the ultimate ice cream experience with our Cores. Whether your primal urges lead you to the center of salted caramel or directly to the blonde brownies, you\\342\\200\\231ll be in total control of your own ice cream destiny.                                                                                                      \n",
       "2 There\\342\\200\\231s something for everyone to watch on Netflix & flavors for everyone to enjoy from Ben & Jerry\\342\\200\\231s, so we\\342\\200\\231ve teamed up to bring you a chillaxing new creation that\\342\\200\\231s certain to satisfy any sweet or salty snack craving. It\\342\\200\\231s a flavorful world, and everyone is invited to grab a spoon.\n",
       "3 Sometimes \\342\\200\\234chip\\342\\200\\235 happens and everything\\342\\200\\231s a mess, but we Nailed It! with this chip-filled limited batch. When smooth chocolate ice cream meets fudge chips & salty swirls, they pack a serious one-two crunch. The best part? There won\\342\\200\\231t be anything left to clean up.                                 \n",
       "4 As a Limited Batch that captured the rapture of the classic Sicilian dessert, our Cannoli captivated fans like no other Cannoli could. Now that it\\342\\200\\231s a full-time flavor, you and your Cannoli can re-capture the rapture all over again.                                                                                                 \n",
       "5 It\\342\\200\\231s a gimme: there\\342\\200\\231s always room for s\\342\\200\\231more. And we\\342\\200\\231re pretty sure you\\342\\200\\231ll want to make s\\342\\200\\231more room in your freezer for this \\342\\200\\230shmallowy-rich, graham-good-\\342\\200\\230n-chocolatey concoction now that it's full time flavor!.                                         \n",
       "6 If you were more than a little bit smitten with half baked\\302\\256\\342\\200\\231s peanut buttery cousin when it was a Limited Batch, we expect you could be a whole lot smittener now that it\\342\\200\\231s a full-time flavor. Enjoy!                                                                                                                 \n",
       "  rating rating_count\n",
       "1 3.7    208         \n",
       "2 4.0    127         \n",
       "3 4.7    130         \n",
       "4 3.6     70         \n",
       "5 4.5    281         \n",
       "6 4.9     14         \n",
       "  ingredients                                                                                                                                                                                                                                                                                                                                                                                                                          \n",
       "1 CREAM, SKIM MILK, LIQUID SUGAR (SUGAR, WATER), WATER, BROWN SUGAR, SUGAR, MILK, WHEAT FLOUR, EGG YOLKS, CORN SYRUP, EGGS, BUTTER (CREAM, SALT), BUTTEROIL, PECTIN, SEA SALT, SOYBEAN OIL, VANILLA EXTRACT, GUAR GUM, SOY LECITHIN, BAKING POWDER (SODIUM ACID PYROPHOSPHATE, SODIUM BICARBONATE, CORN STARCH, MONOCALCIUM PHOSPHATE), BAKING SODA, SALT, CARRAGEENAN, LACTASE                                                        \n",
       "2 CREAM, SKIM MILK, LIQUID SUGAR (SUGAR, WATER), WATER, SUGAR, PEANUTS, WHEAT FLOUR, CANOLA OIL, EGG YOLKS, CORN STARCH, PEANUT OIL, COCOA POWDER, SALT, SOYBEAN OIL, INVERT CANE SUGAR, MILK FAT, EGGS, EGG WHITES, GUAR GUM, SOY LECITHIN, TAPIOCA STARCH, BAKING SODA, CARRAGEENAN, VANILLA EXTRACT, BARLEY MALT, MALTED BARLEY FLOUR                                                                                               \n",
       "3 CREAM, LIQUID SUGAR (SUGAR, WATER), SKIM MILK, WATER, SUGAR, COCOA (PROCESSED WITH ALKALI), POTATO, COCONUT OIL, CORN SYRUP SOLIDS, SOYBEAN OIL, EGG YOLKS, RICE STARCH, SUNFLOWER OIL, BARLEY MALT, COCOA POWDER, WHEAT FLOUR, MILK, SALT, SOY LECITHIN, YEAST EXTRACT, NATURAL FLAVOR, GUAR GUM, SEA SALT, MILKFAT, VANILLA EXTRACT, ENZYMES, CARRAGEENAN, BAKING SODA. CONTAINS MILK, EGGS, WHEAT AND SOY                         \n",
       "4 CREAM, SKIM MILK, LIQUID SUGAR (SUGAR, WATER),  WATER, CORN SYRUP, COCONUT OIL, SUGAR, DRIED CANE SYRUP, EGG YOLKS, WHEAT FLOUR, MILK, COCOA, NATURAL FLAVOR, GUAR GUM, SOY LECITHIN, BUTTER OIL, NATURAL FLAVORS, LOCUST BEAN GUM, SALT, CITRIC ACID, VANILLA BEAN SEEDS, SOYBEAN OIL, TAPIOCA STARCH, LACTIC ACID, CARRAGEENAN                                                                                                     \n",
       "5 CREAM, SKIM MILK, WATER, LIQUID SUGAR (SUGAR, WATER), SUGAR, CANOLA OIL, SOYBEAN OIL, EGG YOLKS, CORN SYRUP, WHEAT FLOUR, COCONUT OIL, CORN STARCH, COCOA (PROCESSED WITH ALKALI), CORN SYRUP SOLIDS, COCOA, GRAHAM FLOUR, SALT, EGG WHITES, BUTTEROIL, TAPIOCA STARCH, GUAR GUM, SOY LECITHIN, BAKING SODA, NATURAL FLAVOR, MOLASSES, HONEY, VANILLA EXTRACT, PECTIN, CARAMELIZED SUGAR SYRUP, CARRAGEENAN                          \n",
       "6 CREAM, LIQUID SUGAR (SUGAR, WATER), SKIM MILK, WATER, SUGAR, WHEAT FLOUR, PEANUTS, COCOA (PROCESSED WITH ALKALI), BROWN SUGAR, EGG YOLKS, COCOA POWDER, PEANUT OIL, SOYBEAN OIL, BUTTER (CREAM, SALT), INVERT CANE SUGAR, SALT, CHOCOLATE LIQUOR, EGGS, TAPIOCA FLOUR, PEANUT FLOUR, PEANUT EXTRACT, VANILLA EXTRACT, EGG WHITES, GUAR GUM, COCOA BUTTER, NATURAL FLAVOR, CARRAGEENAN, SOY LECITHIN, BAKING SODA, MALTED BARLEY FLOUR"
      ]
     },
     "metadata": {},
     "output_type": "display_data"
    }
   ],
   "source": [
    "head(myDF)"
   ]
  },
  {
   "cell_type": "code",
   "execution_count": 14,
   "id": "fcffd62e-390a-412c-ab3f-6d8e5948dde6",
   "metadata": {},
   "outputs": [
    {
     "data": {
      "text/plain": [
       "\n",
       "     bj breyers      hd talenti \n",
       "     57      69      70      45 "
      ]
     },
     "metadata": {},
     "output_type": "display_data"
    }
   ],
   "source": [
    "table(myDF$brand)"
   ]
  },
  {
   "cell_type": "code",
   "execution_count": 14,
   "id": "8924f8c4-d58d-4e67-8a3e-c18f64196d55",
   "metadata": {},
   "outputs": [
    {
     "data": {
      "text/plain": [
       "\n",
       "     bj breyers      hd talenti \n",
       "     57      69      70      45 "
      ]
     },
     "metadata": {},
     "output_type": "display_data"
    }
   ],
   "source": [
    "# The reviews data set has a lot more data!"
   ]
  },
  {
   "cell_type": "code",
   "execution_count": 15,
   "id": "de954faf-e4d8-49e9-a8a5-b62d0879082a",
   "metadata": {},
   "outputs": [],
   "source": [
    "myDF <- read.csv(\"/anvil/projects/tdm/data/icecream/combined/reviews.csv\")"
   ]
  },
  {
   "cell_type": "code",
   "execution_count": 17,
   "id": "a39cf1e9-d85d-4d1e-b90a-86d994d7ae6a",
   "metadata": {},
   "outputs": [
    {
     "data": {
      "text/html": [
       "<style>\n",
       ".list-inline {list-style: none; margin:0; padding: 0}\n",
       ".list-inline>li {display: inline-block}\n",
       ".list-inline>li:not(:last-child)::after {content: \"\\00b7\"; padding: 0 .5ex}\n",
       "</style>\n",
       "<ol class=list-inline><li>21674</li><li>13</li></ol>\n"
      ],
      "text/latex": [
       "\\begin{enumerate*}\n",
       "\\item 21674\n",
       "\\item 13\n",
       "\\end{enumerate*}\n"
      ],
      "text/markdown": [
       "1. 21674\n",
       "2. 13\n",
       "\n",
       "\n"
      ],
      "text/plain": [
       "[1] 21674    13"
      ]
     },
     "metadata": {},
     "output_type": "display_data"
    }
   ],
   "source": [
    "dim(myDF)"
   ]
  },
  {
   "cell_type": "code",
   "execution_count": 18,
   "id": "2325e17c-1387-4e4b-a815-f3ef7c5cab01",
   "metadata": {},
   "outputs": [
    {
     "data": {
      "text/plain": [
       "\n",
       "     bj breyers      hd talenti \n",
       "   7943    5007    4655    4069 "
      ]
     },
     "metadata": {},
     "output_type": "display_data"
    }
   ],
   "source": [
    "table(myDF$brand)"
   ]
  },
  {
   "cell_type": "markdown",
   "id": "0d552245-b4d6-474a-9cc9-fa7b8e674d55",
   "metadata": {},
   "source": [
    "Here we used R to display details regarding all the ice cream at an ice cream shop using an import csv function. Similarly, we do the same for the reviews csv document about the items at the ice cream shop, following similar setps afterwards. "
   ]
  },
  {
   "cell_type": "markdown",
   "id": "88c9cdac-3e92-498f-83fa-e089bfc44ac8",
   "metadata": {},
   "source": [
    "## Question 5"
   ]
  },
  {
   "cell_type": "code",
   "execution_count": 19,
   "id": "d370d7c9-06db-42b9-b75f-240481a5c491",
   "metadata": {},
   "outputs": [],
   "source": [
    "myDF <- read.csv(\"/anvil/projects/tdm/data/icecream/combined/products.csv\")"
   ]
  },
  {
   "cell_type": "code",
   "execution_count": 20,
   "id": "1be2a4bc-4376-4ac8-8084-e88260b6dd62",
   "metadata": {},
   "outputs": [
    {
     "data": {
      "image/png": "[encoded data removed]",
      "text/plain": [
       "plot without title"
      ]
     },
     "metadata": {
      "image/png": {
       "height": 420,
       "width": 420
      }
     },
     "output_type": "display_data"
    }
   ],
   "source": [
    "plot(table(myDF$brand))"
   ]
  },
  {
   "cell_type": "code",
   "execution_count": null,
   "id": "fe2bd34d-c984-4cc4-8439-01743ccf62aa",
   "metadata": {},
   "outputs": [],
   "source": [
    "# Plot of the dataset regarding the products at the ice cream shop."
   ]
  },
  {
   "cell_type": "code",
   "execution_count": null,
   "id": "4c2a154c-5958-4b22-a1de-2442b0954b39",
   "metadata": {},
   "outputs": [],
   "source": [
    "myDF <- read.csv(\"/anvil/projects/tdm/data/icecream/combined/reviews.csv\")"
   ]
  },
  {
   "cell_type": "code",
   "execution_count": 21,
   "id": "90aee4cc-2c72-4fd9-a8af-10c8c56dfe8f",
   "metadata": {},
   "outputs": [
    {
     "data": {
      "image/png": "[encoded data removed]",
      "text/plain": [
       "plot without title"
      ]
     },
     "metadata": {
      "image/png": {
       "height": 420,
       "width": 420
      }
     },
     "output_type": "display_data"
    }
   ],
   "source": [
    "plot(table(myDF$brand))"
   ]
  },
  {
   "cell_type": "code",
   "execution_count": 21,
   "id": "0df57e36-3e88-4594-ae59-687b1d63f2a7",
   "metadata": {},
   "outputs": [
    {
     "data": {
      "image/png": "[encoded data removed]",
      "text/plain": [
       "plot without title"
      ]
     },
     "metadata": {
      "image/png": {
       "height": 420,
       "width": 420
      }
     },
     "output_type": "display_data"
    }
   ],
   "source": [
    "# Plot regarding the details of the reviews of the ice creeam at the ice cream shop."
   ]
  },
  {
   "cell_type": "markdown",
   "id": "9fbf00fb-2418-460f-ae94-2a32b0c28952",
   "metadata": {},
   "source": [
    "Here we used the ice cream shop details from the previous question and plotted data points out of the tables using the plot function in R."
   ]
  },
  {
   "cell_type": "markdown",
   "id": "f76442d6-d02e-4f26-b9d6-c3183e1d6929",
   "metadata": {},
   "source": [
    "## Pledge\n",
    "\n",
    "By submitting this work I hereby pledge that this is my own, personal work. I've acknowledged in the designated place at the top of this file all sources that I used to complete said work, including but not limited to: online resources, books, and electronic communications. I've noted all collaboration with fellow students and/or TA's. I did not copy or plagiarize another's work.\n",
    "\n",
    "> As a Boilermaker pursuing academic excellence, I pledge to be honest and true in all that I do. Accountable together – We are Purdue."
   ]
  }
 ],
 "metadata": {
  "kernelspec": {
   "display_name": "seminar-r",
   "language": "R",
   "name": "seminar-r"
  },
  "language_info": {
   "codemirror_mode": "r",
   "file_extension": ".r",
   "mimetype": "text/x-r-source",
   "name": "R",
   "pygments_lexer": "r",
   "version": "4.3.1"
  }
 },
 "nbformat": 4,
 "nbformat_minor": 5
}
